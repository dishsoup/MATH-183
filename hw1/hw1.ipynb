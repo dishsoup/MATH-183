{
 "cells": [
  {
   "cell_type": "code",
   "execution_count": 1,
   "metadata": {},
   "outputs": [],
   "source": [
    "#use scitools for astropy mplt and pandas\n",
    "import matplotlib as plt\n",
    "import pandas as pd\n"
   ]
  },
  {
   "cell_type": "code",
   "execution_count": 8,
   "metadata": {},
   "outputs": [
    {
     "name": "stdout",
     "output_type": "stream",
     "text": [
      "----------- Question 1 --------------\n",
      "      gender        age    height      weight family_overweight  \\\n",
      "0     Female  21.000000  1.620000   64.000000               yes   \n",
      "1     Female  21.000000  1.520000   56.000000               yes   \n",
      "2       Male  23.000000  1.800000   77.000000               yes   \n",
      "3       Male  27.000000  1.800000   87.000000                no   \n",
      "4       Male  22.000000  1.780000   89.800000                no   \n",
      "...      ...        ...       ...         ...               ...   \n",
      "2106  Female  20.976842  1.710730  131.408528               yes   \n",
      "2107  Female  21.982942  1.748584  133.742943               yes   \n",
      "2108  Female  22.524036  1.752206  133.689352               yes   \n",
      "2109  Female  24.361936  1.739450  133.346641               yes   \n",
      "2110  Female  23.664709  1.738836  133.472641               yes   \n",
      "\n",
      "     high_caloric_food  eat_vegetables  main_meals_daily food_between_meals  \\\n",
      "0                   no             2.0               3.0          Sometimes   \n",
      "1                   no             3.0               3.0          Sometimes   \n",
      "2                   no             2.0               3.0          Sometimes   \n",
      "3                   no             3.0               3.0          Sometimes   \n",
      "4                   no             2.0               1.0          Sometimes   \n",
      "...                ...             ...               ...                ...   \n",
      "2106               yes             3.0               3.0          Sometimes   \n",
      "2107               yes             3.0               3.0          Sometimes   \n",
      "2108               yes             3.0               3.0          Sometimes   \n",
      "2109               yes             3.0               3.0          Sometimes   \n",
      "2110               yes             3.0               3.0          Sometimes   \n",
      "\n",
      "     smoke  water_intake_daily monitor_calories  physical_activity_frequency  \\\n",
      "0       no            2.000000               no                     0.000000   \n",
      "1      yes            3.000000              yes                     3.000000   \n",
      "2       no            2.000000               no                     2.000000   \n",
      "3       no            2.000000               no                     2.000000   \n",
      "4       no            2.000000               no                     0.000000   \n",
      "...    ...                 ...              ...                          ...   \n",
      "2106    no            1.728139               no                     1.676269   \n",
      "2107    no            2.005130               no                     1.341390   \n",
      "2108    no            2.054193               no                     1.414209   \n",
      "2109    no            2.852339               no                     1.139107   \n",
      "2110    no            2.863513               no                     1.026452   \n",
      "\n",
      "      tech_device_usage alcohol_frequency         transportation  \\\n",
      "0              1.000000                no  Public_Transportation   \n",
      "1              0.000000         Sometimes  Public_Transportation   \n",
      "2              1.000000        Frequently  Public_Transportation   \n",
      "3              0.000000        Frequently                Walking   \n",
      "4              0.000000         Sometimes  Public_Transportation   \n",
      "...                 ...               ...                    ...   \n",
      "2106           0.906247         Sometimes  Public_Transportation   \n",
      "2107           0.599270         Sometimes  Public_Transportation   \n",
      "2108           0.646288         Sometimes  Public_Transportation   \n",
      "2109           0.586035         Sometimes  Public_Transportation   \n",
      "2110           0.714137         Sometimes  Public_Transportation   \n",
      "\n",
      "                   status  \n",
      "0           Normal_Weight  \n",
      "1           Normal_Weight  \n",
      "2           Normal_Weight  \n",
      "3      Overweight_Level_I  \n",
      "4     Overweight_Level_II  \n",
      "...                   ...  \n",
      "2106     Obesity_Type_III  \n",
      "2107     Obesity_Type_III  \n",
      "2108     Obesity_Type_III  \n",
      "2109     Obesity_Type_III  \n",
      "2110     Obesity_Type_III  \n",
      "\n",
      "[2111 rows x 17 columns]\n"
     ]
    }
   ],
   "source": [
    "#Question 1:\n",
    "print(\"----------- Question 1 --------------\")\n",
    "csv = pd.read_csv(\"obesity_study.csv\")\n",
    "print(csv)"
   ]
  }
 ],
 "metadata": {
  "kernelspec": {
   "display_name": "Python 3",
   "language": "python",
   "name": "python3"
  },
  "language_info": {
   "codemirror_mode": {
    "name": "ipython",
    "version": 3
   },
   "file_extension": ".py",
   "mimetype": "text/x-python",
   "name": "python",
   "nbconvert_exporter": "python",
   "pygments_lexer": "ipython3",
   "version": "3.10.13"
  }
 },
 "nbformat": 4,
 "nbformat_minor": 2
}
